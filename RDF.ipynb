{
 "cells": [
  {
   "cell_type": "code",
   "execution_count": 1,
   "id": "66979916-5948-4903-af3f-b115955fdbe7",
   "metadata": {},
   "outputs": [
    {
     "name": "stdout",
     "output_type": "stream",
     "text": [
      "Collecting rdflib\n",
      "  Downloading rdflib-7.1.4-py3-none-any.whl.metadata (11 kB)\n",
      "Requirement already satisfied: pyparsing<4,>=2.1.0 in c:\\users\\exam\\anaconda3\\lib\\site-packages (from rdflib) (3.0.9)\n",
      "Downloading rdflib-7.1.4-py3-none-any.whl (565 kB)\n",
      "   ---------------------------------------- 0.0/565.1 kB ? eta -:--:--\n",
      "    --------------------------------------- 10.2/565.1 kB ? eta -:--:--\n",
      "   ------ --------------------------------- 92.2/565.1 kB 1.3 MB/s eta 0:00:01\n",
      "   --------------------- ------------------ 307.2/565.1 kB 3.2 MB/s eta 0:00:01\n",
      "   ---------------------------------------- 565.1/565.1 kB 4.4 MB/s eta 0:00:00\n",
      "Installing collected packages: rdflib\n",
      "Successfully installed rdflib-7.1.4\n"
     ]
    }
   ],
   "source": [
    "!pip install rdflib"
   ]
  },
  {
   "cell_type": "code",
   "execution_count": 3,
   "id": "b2cc56c3-3b5d-4707-aee2-65a3a7ffc942",
   "metadata": {},
   "outputs": [],
   "source": [
    "import rdflib"
   ]
  },
  {
   "cell_type": "code",
   "execution_count": 19,
   "id": "fea733a4-964e-4a95-b531-16c94d5a24ee",
   "metadata": {},
   "outputs": [
    {
     "name": "stdout",
     "output_type": "stream",
     "text": [
      "@prefix ns1: <http://example.org/> .\n",
      "\n",
      "ns1:Pradeep ns1:Works_at ns1:Facebook .\n",
      "\n",
      "ns1:kumar ns1:Launched ns1:Insta ;\n",
      "    ns1:Works_at ns1:Twitter .\n",
      "\n",
      "ns1:Facebook ns1:Launched_in \"1990\" .\n",
      "\n",
      "\n",
      "4\n"
     ]
    }
   ],
   "source": [
    "from rdflib import Graph,Namespace,Literal,URIRef\n",
    "g=Graph()\n",
    "Ex=Namespace('http://example.org/')\n",
    "p=URIRef(Ex[\"Pradeep\"])\n",
    "w=URIRef(Ex[\"Facebook\"])\n",
    "g.add((p,Ex[\"Works_at\"],w))\n",
    "g.add((w,Ex[\"Launched_in\"],Literal(\"1990\")))\n",
    "k=Ex[\"kumar\"]\n",
    "g.add((k,Ex[\"Works_at\"],Ex[\"Twitter\"]))\n",
    "g.add((k,Ex[\"Launched\"],Ex[\"Insta\"]))\n",
    "print(g.serialize(format=\"turtle\"))\n",
    "print(len(g))\n"
   ]
  },
  {
   "cell_type": "code",
   "execution_count": 21,
   "id": "59eef67c-a99c-4b30-a82b-bcb85d432878",
   "metadata": {},
   "outputs": [
    {
     "name": "stdout",
     "output_type": "stream",
     "text": [
      "<?xml version=\"1.0\" encoding=\"utf-8\"?>\n",
      "<rdf:RDF\n",
      "   xmlns:ns1=\"http://example.org/\"\n",
      "   xmlns:rdf=\"http://www.w3.org/1999/02/22-rdf-syntax-ns#\"\n",
      ">\n",
      "  <rdf:Description rdf:about=\"http://example.org/kumar\">\n",
      "    <ns1:Works_at rdf:resource=\"http://example.org/Twitter\"/>\n",
      "    <ns1:Launched rdf:resource=\"http://example.org/Insta\"/>\n",
      "  </rdf:Description>\n",
      "  <rdf:Description rdf:about=\"http://example.org/Pradeep\">\n",
      "    <ns1:Works_at rdf:resource=\"http://example.org/Facebook\"/>\n",
      "  </rdf:Description>\n",
      "  <rdf:Description rdf:about=\"http://example.org/Facebook\">\n",
      "    <ns1:Launched_in>1990</ns1:Launched_in>\n",
      "  </rdf:Description>\n",
      "</rdf:RDF>\n",
      "\n"
     ]
    }
   ],
   "source": [
    "print(g.serialize(format=\"xml\"))"
   ]
  },
  {
   "cell_type": "code",
   "execution_count": 23,
   "id": "804399e0-76ef-45b3-b4b0-b7b45c0267fe",
   "metadata": {},
   "outputs": [
    {
     "name": "stdout",
     "output_type": "stream",
     "text": [
      "[\n",
      "  {\n",
      "    \"@id\": \"http://example.org/Pradeep\",\n",
      "    \"http://example.org/Works_at\": [\n",
      "      {\n",
      "        \"@id\": \"http://example.org/Facebook\"\n",
      "      }\n",
      "    ]\n",
      "  },\n",
      "  {\n",
      "    \"@id\": \"http://example.org/Facebook\",\n",
      "    \"http://example.org/Launched_in\": [\n",
      "      {\n",
      "        \"@value\": \"1990\"\n",
      "      }\n",
      "    ]\n",
      "  },\n",
      "  {\n",
      "    \"@id\": \"http://example.org/kumar\",\n",
      "    \"http://example.org/Launched\": [\n",
      "      {\n",
      "        \"@id\": \"http://example.org/Insta\"\n",
      "      }\n",
      "    ],\n",
      "    \"http://example.org/Works_at\": [\n",
      "      {\n",
      "        \"@id\": \"http://example.org/Twitter\"\n",
      "      }\n",
      "    ]\n",
      "  }\n",
      "]\n"
     ]
    }
   ],
   "source": [
    "print(g.serialize(format=\"json-ld\"))"
   ]
  },
  {
   "cell_type": "code",
   "execution_count": 25,
   "id": "476491d1-b96e-41c0-ba0d-c27a8dab0fb4",
   "metadata": {},
   "outputs": [
    {
     "name": "stdout",
     "output_type": "stream",
     "text": [
      "<http://example.org/kumar> <http://example.org/Works_at> <http://example.org/Twitter> .\n",
      "<http://example.org/Pradeep> <http://example.org/Works_at> <http://example.org/Facebook> .\n",
      "<http://example.org/Facebook> <http://example.org/Launched_in> \"1990\" .\n",
      "<http://example.org/kumar> <http://example.org/Launched> <http://example.org/Insta> .\n",
      "\n"
     ]
    }
   ],
   "source": [
    "print(g.serialize(format=\"nt\"))"
   ]
  },
  {
   "cell_type": "code",
   "execution_count": 27,
   "id": "c11191e1-f7ca-4e38-9aa1-3724350bc5dc",
   "metadata": {},
   "outputs": [
    {
     "data": {
      "text/plain": [
       "<Graph identifier=N92c8edfdc19545ca9d82c63f234c6c20 (<class 'rdflib.graph.Graph'>)>"
      ]
     },
     "execution_count": 27,
     "metadata": {},
     "output_type": "execute_result"
    }
   ],
   "source": [
    "g.serialize(\"graph.ttl\",format=\"turtle\")"
   ]
  },
  {
   "cell_type": "code",
   "execution_count": 29,
   "id": "c1365d7d-7995-47c9-894b-92542062ee58",
   "metadata": {},
   "outputs": [
    {
     "name": "stdout",
     "output_type": "stream",
     "text": [
      "http://example.org/kumar http://example.org/Works_at http://example.org/Twitter\n",
      "http://example.org/Pradeep http://example.org/Works_at http://example.org/Facebook\n",
      "http://example.org/Facebook http://example.org/Launched_in 1990\n",
      "http://example.org/kumar http://example.org/Launched http://example.org/Insta\n"
     ]
    }
   ],
   "source": [
    "for s,p,o in g:\n",
    "    print(s,p,o)"
   ]
  },
  {
   "cell_type": "code",
   "execution_count": 37,
   "id": "3917307e-c694-4b80-9232-95b89e87345b",
   "metadata": {},
   "outputs": [
    {
     "name": "stdout",
     "output_type": "stream",
     "text": [
      "http://example.org/kumar http://example.org/Launched http://example.org/Insta\n",
      "http://example.org/kumar http://example.org/Works_at http://example.org/Twitter\n",
      "http://example.org/Pradeep http://example.org/Works_at http://example.org/Facebook\n",
      "http://example.org/Facebook http://example.org/Launched_in 1990\n"
     ]
    }
   ],
   "source": [
    "q=Graph()\n",
    "q.parse(\"graph.ttl\",format=\"turtle\")\n",
    "for s,p,o in q:\n",
    "    print(str(s), str(p), str(o))"
   ]
  },
  {
   "cell_type": "code",
   "execution_count": 39,
   "id": "08c8d644-7256-4242-bb0b-e2d7ffc08eb9",
   "metadata": {},
   "outputs": [
    {
     "name": "stdout",
     "output_type": "stream",
     "text": [
      "@prefix ns1: <http://example.org/> .\n",
      "\n",
      "ns1:Pradeep ns1:Works_at ns1:Facebook .\n",
      "\n",
      "ns1:kumar ns1:Launched ns1:Insta ;\n",
      "    ns1:Works_at ns1:Twitter .\n",
      "\n",
      "ns1:Facebook ns1:Launched_in \"1990\" .\n",
      "\n",
      "\n"
     ]
    }
   ],
   "source": [
    "print(q.serialize(format=\"turtle\"))"
   ]
  },
  {
   "cell_type": "code",
   "execution_count": 41,
   "id": "8a04c2a3-225d-40fd-956e-dba911140b11",
   "metadata": {},
   "outputs": [
    {
     "name": "stdout",
     "output_type": "stream",
     "text": [
      "Collecting rdflib-neo4j\n",
      "  Downloading rdflib_neo4j-1.1-py3-none-any.whl.metadata (484 bytes)\n",
      "Requirement already satisfied: rdflib>=7.0.0 in c:\\users\\exam\\anaconda3\\lib\\site-packages (from rdflib-neo4j) (7.1.4)\n",
      "Collecting neo4j>=5.0.0 (from rdflib-neo4j)\n",
      "  Downloading neo4j-5.28.2-py3-none-any.whl.metadata (5.9 kB)\n",
      "Requirement already satisfied: pytz in c:\\users\\exam\\anaconda3\\lib\\site-packages (from neo4j>=5.0.0->rdflib-neo4j) (2024.1)\n",
      "Requirement already satisfied: pyparsing<4,>=2.1.0 in c:\\users\\exam\\anaconda3\\lib\\site-packages (from rdflib>=7.0.0->rdflib-neo4j) (3.0.9)\n",
      "Downloading rdflib_neo4j-1.1-py3-none-any.whl (19 kB)\n",
      "Downloading neo4j-5.28.2-py3-none-any.whl (313 kB)\n",
      "   ---------------------------------------- 0.0/313.2 kB ? eta -:--:--\n",
      "   ------- -------------------------------- 61.4/313.2 kB 1.7 MB/s eta 0:00:01\n",
      "   ---------------------------------------- 313.2/313.2 kB 3.9 MB/s eta 0:00:00\n",
      "Installing collected packages: neo4j, rdflib-neo4j\n",
      "Successfully installed neo4j-5.28.2 rdflib-neo4j-1.1\n"
     ]
    }
   ],
   "source": [
    "!pip install rdflib-neo4j"
   ]
  },
  {
   "cell_type": "code",
   "execution_count": 45,
   "id": "c91b72d0-9188-4888-a385-cf037b1ee666",
   "metadata": {},
   "outputs": [
    {
     "ename": "AuthError",
     "evalue": "{code: Neo.ClientError.Security.Unauthorized} {message: The client is unauthorized due to authentication failure.}",
     "output_type": "error",
     "traceback": [
      "\u001b[1;31m---------------------------------------------------------------------------\u001b[0m",
      "\u001b[1;31mAuthError\u001b[0m                                 Traceback (most recent call last)",
      "Cell \u001b[1;32mIn[45], line 17\u001b[0m\n\u001b[0;32m      4\u001b[0m auth_data \u001b[38;5;241m=\u001b[39m {\n\u001b[0;32m      5\u001b[0m     \u001b[38;5;124m'\u001b[39m\u001b[38;5;124muri\u001b[39m\u001b[38;5;124m'\u001b[39m: \u001b[38;5;124m\"\u001b[39m\u001b[38;5;124mbolt://localhost:7687\u001b[39m\u001b[38;5;124m\"\u001b[39m,  \u001b[38;5;66;03m# or your Aura URI\u001b[39;00m\n\u001b[0;32m      6\u001b[0m     \u001b[38;5;124m'\u001b[39m\u001b[38;5;124mdatabase\u001b[39m\u001b[38;5;124m'\u001b[39m: \u001b[38;5;124m\"\u001b[39m\u001b[38;5;124mneo4j\u001b[39m\u001b[38;5;124m\"\u001b[39m,\n\u001b[0;32m      7\u001b[0m     \u001b[38;5;124m'\u001b[39m\u001b[38;5;124muser\u001b[39m\u001b[38;5;124m'\u001b[39m: \u001b[38;5;124m\"\u001b[39m\u001b[38;5;124mKumar\u001b[39m\u001b[38;5;124m\"\u001b[39m,\n\u001b[0;32m      8\u001b[0m     \u001b[38;5;124m'\u001b[39m\u001b[38;5;124mpwd\u001b[39m\u001b[38;5;124m'\u001b[39m: \u001b[38;5;124m\"\u001b[39m\u001b[38;5;124mKUmar123\u001b[39m\u001b[38;5;124m\"\u001b[39m\n\u001b[0;32m      9\u001b[0m }\n\u001b[0;32m     11\u001b[0m config \u001b[38;5;241m=\u001b[39m Neo4jStoreConfig(\n\u001b[0;32m     12\u001b[0m     auth_data\u001b[38;5;241m=\u001b[39mauth_data,\n\u001b[0;32m     13\u001b[0m     handle_vocab_uri_strategy\u001b[38;5;241m=\u001b[39mHANDLE_VOCAB_URI_STRATEGY\u001b[38;5;241m.\u001b[39mIGNORE,\n\u001b[0;32m     14\u001b[0m     batching\u001b[38;5;241m=\u001b[39m\u001b[38;5;28;01mTrue\u001b[39;00m\n\u001b[0;32m     15\u001b[0m )\n\u001b[1;32m---> 17\u001b[0m g \u001b[38;5;241m=\u001b[39m Graph(store\u001b[38;5;241m=\u001b[39mNeo4jStore(config\u001b[38;5;241m=\u001b[39mconfig))\n\u001b[0;32m     18\u001b[0m g\u001b[38;5;241m.\u001b[39mparse(\u001b[38;5;124m\"\u001b[39m\u001b[38;5;124mgraph.ttl\u001b[39m\u001b[38;5;124m\"\u001b[39m, \u001b[38;5;28mformat\u001b[39m\u001b[38;5;241m=\u001b[39m\u001b[38;5;124m\"\u001b[39m\u001b[38;5;124mturtle\u001b[39m\u001b[38;5;124m\"\u001b[39m)\n\u001b[0;32m     19\u001b[0m g\u001b[38;5;241m.\u001b[39mclose(\u001b[38;5;28;01mTrue\u001b[39;00m)\n",
      "File \u001b[1;32m~\\anaconda3\\Lib\\site-packages\\rdflib_neo4j\\Neo4jStore.py:33\u001b[0m, in \u001b[0;36mNeo4jStore.__init__\u001b[1;34m(self, config, neo4j_driver)\u001b[0m\n\u001b[0;32m     30\u001b[0m \u001b[38;5;28;01melif\u001b[39;00m config\u001b[38;5;241m.\u001b[39mauth_data:\n\u001b[0;32m     31\u001b[0m     \u001b[38;5;28;01mraise\u001b[39;00m \u001b[38;5;167;01mException\u001b[39;00m(\u001b[38;5;124m\"\u001b[39m\u001b[38;5;124mEither initialize the store with credentials or driver. You cannot do both.\u001b[39m\u001b[38;5;124m\"\u001b[39m)\n\u001b[1;32m---> 33\u001b[0m \u001b[38;5;28msuper\u001b[39m(Neo4jStore, \u001b[38;5;28mself\u001b[39m)\u001b[38;5;241m.\u001b[39m\u001b[38;5;21m__init__\u001b[39m(config\u001b[38;5;241m.\u001b[39mget_config_dict())\n\u001b[0;32m     35\u001b[0m \u001b[38;5;28mself\u001b[39m\u001b[38;5;241m.\u001b[39mbatching \u001b[38;5;241m=\u001b[39m config\u001b[38;5;241m.\u001b[39mbatching\n\u001b[0;32m     36\u001b[0m \u001b[38;5;28mself\u001b[39m\u001b[38;5;241m.\u001b[39mbuffer_max_size \u001b[38;5;241m=\u001b[39m config\u001b[38;5;241m.\u001b[39mbatch_size\n",
      "File \u001b[1;32m~\\anaconda3\\Lib\\site-packages\\rdflib\\store.py:188\u001b[0m, in \u001b[0;36mStore.__init__\u001b[1;34m(self, configuration, identifier)\u001b[0m\n\u001b[0;32m    186\u001b[0m \u001b[38;5;28mself\u001b[39m\u001b[38;5;241m.\u001b[39mdispatcher \u001b[38;5;241m=\u001b[39m Dispatcher()\n\u001b[0;32m    187\u001b[0m \u001b[38;5;28;01mif\u001b[39;00m configuration:\n\u001b[1;32m--> 188\u001b[0m     \u001b[38;5;28mself\u001b[39m\u001b[38;5;241m.\u001b[39mopen(configuration)\n",
      "File \u001b[1;32m~\\anaconda3\\Lib\\site-packages\\rdflib_neo4j\\Neo4jStore.py:59\u001b[0m, in \u001b[0;36mNeo4jStore.open\u001b[1;34m(self, configuration, create)\u001b[0m\n\u001b[0;32m     50\u001b[0m \u001b[38;5;250m\u001b[39m\u001b[38;5;124;03m\"\"\"\u001b[39;00m\n\u001b[0;32m     51\u001b[0m \u001b[38;5;124;03mOpens a connection to the Neo4j database.\u001b[39;00m\n\u001b[0;32m     52\u001b[0m \n\u001b[1;32m   (...)\u001b[0m\n\u001b[0;32m     56\u001b[0m \n\u001b[0;32m     57\u001b[0m \u001b[38;5;124;03m\"\"\"\u001b[39;00m\n\u001b[0;32m     58\u001b[0m \u001b[38;5;28mself\u001b[39m\u001b[38;5;241m.\u001b[39m__create_session()\n\u001b[1;32m---> 59\u001b[0m \u001b[38;5;28mself\u001b[39m\u001b[38;5;241m.\u001b[39m__constraint_check(create)\n\u001b[0;32m     60\u001b[0m \u001b[38;5;28mself\u001b[39m\u001b[38;5;241m.\u001b[39m__set_open(\u001b[38;5;28;01mTrue\u001b[39;00m)\n",
      "File \u001b[1;32m~\\anaconda3\\Lib\\site-packages\\rdflib_neo4j\\Neo4jStore.py:197\u001b[0m, in \u001b[0;36mNeo4jStore.__constraint_check\u001b[1;34m(self, create)\u001b[0m\n\u001b[0;32m    188\u001b[0m \u001b[38;5;66;03m# Test connectivity to backend and check that constraint on :Resource(uri) is present\u001b[39;00m\n\u001b[0;32m    189\u001b[0m constraint_check \u001b[38;5;241m=\u001b[39m \u001b[38;5;124m\"\"\"\u001b[39m\n\u001b[0;32m    190\u001b[0m \u001b[38;5;124m   SHOW CONSTRAINTS YIELD * \u001b[39m\n\u001b[0;32m    191\u001b[0m \u001b[38;5;124m   WHERE type = \u001b[39m\u001b[38;5;124m\"\u001b[39m\u001b[38;5;124mUNIQUENESS\u001b[39m\u001b[38;5;124m\"\u001b[39m\u001b[38;5;124m \u001b[39m\n\u001b[1;32m   (...)\u001b[0m\n\u001b[0;32m    195\u001b[0m \u001b[38;5;124m   RETURN COUNT(*) = 1 AS constraint_found\u001b[39m\n\u001b[0;32m    196\u001b[0m \u001b[38;5;124m   \u001b[39m\u001b[38;5;124m\"\"\"\u001b[39m\n\u001b[1;32m--> 197\u001b[0m result \u001b[38;5;241m=\u001b[39m \u001b[38;5;28mself\u001b[39m\u001b[38;5;241m.\u001b[39msession\u001b[38;5;241m.\u001b[39mrun(constraint_check)\n\u001b[0;32m    198\u001b[0m constraint_found \u001b[38;5;241m=\u001b[39m \u001b[38;5;28mnext\u001b[39m((\u001b[38;5;28;01mTrue\u001b[39;00m \u001b[38;5;28;01mfor\u001b[39;00m x \u001b[38;5;129;01min\u001b[39;00m result \u001b[38;5;28;01mif\u001b[39;00m x[\u001b[38;5;124m\"\u001b[39m\u001b[38;5;124mconstraint_found\u001b[39m\u001b[38;5;124m\"\u001b[39m]), \u001b[38;5;28;01mFalse\u001b[39;00m)\n\u001b[0;32m    200\u001b[0m \u001b[38;5;28;01mif\u001b[39;00m \u001b[38;5;129;01mnot\u001b[39;00m constraint_found \u001b[38;5;129;01mand\u001b[39;00m create:\n",
      "File \u001b[1;32m~\\anaconda3\\Lib\\site-packages\\neo4j\\_sync\\work\\session.py:315\u001b[0m, in \u001b[0;36mSession.run\u001b[1;34m(self, query, parameters, **kwargs)\u001b[0m\n\u001b[0;32m    312\u001b[0m     \u001b[38;5;28mself\u001b[39m\u001b[38;5;241m.\u001b[39m_auto_result\u001b[38;5;241m.\u001b[39m_buffer_all()\n\u001b[0;32m    314\u001b[0m \u001b[38;5;28;01mif\u001b[39;00m \u001b[38;5;129;01mnot\u001b[39;00m \u001b[38;5;28mself\u001b[39m\u001b[38;5;241m.\u001b[39m_connection:\n\u001b[1;32m--> 315\u001b[0m     \u001b[38;5;28mself\u001b[39m\u001b[38;5;241m.\u001b[39m_connect(\u001b[38;5;28mself\u001b[39m\u001b[38;5;241m.\u001b[39m_config\u001b[38;5;241m.\u001b[39mdefault_access_mode)\n\u001b[0;32m    316\u001b[0m     \u001b[38;5;28;01massert\u001b[39;00m \u001b[38;5;28mself\u001b[39m\u001b[38;5;241m.\u001b[39m_connection \u001b[38;5;129;01mis\u001b[39;00m \u001b[38;5;129;01mnot\u001b[39;00m \u001b[38;5;28;01mNone\u001b[39;00m\n\u001b[0;32m    317\u001b[0m cx \u001b[38;5;241m=\u001b[39m \u001b[38;5;28mself\u001b[39m\u001b[38;5;241m.\u001b[39m_connection\n",
      "File \u001b[1;32m~\\anaconda3\\Lib\\site-packages\\neo4j\\_sync\\work\\session.py:136\u001b[0m, in \u001b[0;36mSession._connect\u001b[1;34m(self, access_mode, **acquire_kwargs)\u001b[0m\n\u001b[0;32m    134\u001b[0m     access_mode \u001b[38;5;241m=\u001b[39m \u001b[38;5;28mself\u001b[39m\u001b[38;5;241m.\u001b[39m_config\u001b[38;5;241m.\u001b[39mdefault_access_mode\n\u001b[0;32m    135\u001b[0m \u001b[38;5;28;01mtry\u001b[39;00m:\n\u001b[1;32m--> 136\u001b[0m     \u001b[38;5;28msuper\u001b[39m()\u001b[38;5;241m.\u001b[39m_connect(\n\u001b[0;32m    137\u001b[0m         access_mode, auth\u001b[38;5;241m=\u001b[39m\u001b[38;5;28mself\u001b[39m\u001b[38;5;241m.\u001b[39m_config\u001b[38;5;241m.\u001b[39mauth, \u001b[38;5;241m*\u001b[39m\u001b[38;5;241m*\u001b[39macquire_kwargs\n\u001b[0;32m    138\u001b[0m     )\n\u001b[0;32m    139\u001b[0m \u001b[38;5;28;01mexcept\u001b[39;00m asyncio\u001b[38;5;241m.\u001b[39mCancelledError:\n\u001b[0;32m    140\u001b[0m     \u001b[38;5;28mself\u001b[39m\u001b[38;5;241m.\u001b[39m_handle_cancellation(message\u001b[38;5;241m=\u001b[39m\u001b[38;5;124m\"\u001b[39m\u001b[38;5;124m_connect\u001b[39m\u001b[38;5;124m\"\u001b[39m)\n",
      "File \u001b[1;32m~\\anaconda3\\Lib\\site-packages\\neo4j\\_sync\\work\\workspace.py:199\u001b[0m, in \u001b[0;36mWorkspace._connect\u001b[1;34m(self, access_mode, auth, **acquire_kwargs)\u001b[0m\n\u001b[0;32m    189\u001b[0m acquire_kwargs_ \u001b[38;5;241m=\u001b[39m {\n\u001b[0;32m    190\u001b[0m     \u001b[38;5;124m\"\u001b[39m\u001b[38;5;124maccess_mode\u001b[39m\u001b[38;5;124m\"\u001b[39m: access_mode,\n\u001b[0;32m    191\u001b[0m     \u001b[38;5;124m\"\u001b[39m\u001b[38;5;124mtimeout\u001b[39m\u001b[38;5;124m\"\u001b[39m: acquisition_timeout,\n\u001b[1;32m   (...)\u001b[0m\n\u001b[0;32m    196\u001b[0m     \u001b[38;5;124m\"\u001b[39m\u001b[38;5;124mdatabase_callback\u001b[39m\u001b[38;5;124m\"\u001b[39m: \u001b[38;5;28mself\u001b[39m\u001b[38;5;241m.\u001b[39m_make_db_resolution_callback(),\n\u001b[0;32m    197\u001b[0m }\n\u001b[0;32m    198\u001b[0m acquire_kwargs_\u001b[38;5;241m.\u001b[39mupdate(acquire_kwargs)\n\u001b[1;32m--> 199\u001b[0m \u001b[38;5;28mself\u001b[39m\u001b[38;5;241m.\u001b[39m_connection \u001b[38;5;241m=\u001b[39m \u001b[38;5;28mself\u001b[39m\u001b[38;5;241m.\u001b[39m_pool\u001b[38;5;241m.\u001b[39macquire(\u001b[38;5;241m*\u001b[39m\u001b[38;5;241m*\u001b[39macquire_kwargs_)\n\u001b[0;32m    200\u001b[0m \u001b[38;5;28;01mif\u001b[39;00m (\n\u001b[0;32m    201\u001b[0m     target_db\u001b[38;5;241m.\u001b[39mguessed\n\u001b[0;32m    202\u001b[0m     \u001b[38;5;129;01mand\u001b[39;00m \u001b[38;5;129;01mnot\u001b[39;00m \u001b[38;5;28mself\u001b[39m\u001b[38;5;241m.\u001b[39m_pinned_database\n\u001b[1;32m   (...)\u001b[0m\n\u001b[0;32m    206\u001b[0m     \u001b[38;5;66;03m# support SSR.\u001b[39;00m\n\u001b[0;32m    207\u001b[0m     \u001b[38;5;66;03m# => we need to fall back to explicit home database resolution\u001b[39;00m\n\u001b[0;32m    208\u001b[0m     log\u001b[38;5;241m.\u001b[39mdebug(\n\u001b[0;32m    209\u001b[0m         \u001b[38;5;124m\"\u001b[39m\u001b[38;5;124m[#0000]  _: <WORKSPACE> detected ssr support race; \u001b[39m\u001b[38;5;124m\"\u001b[39m\n\u001b[0;32m    210\u001b[0m         \u001b[38;5;124m\"\u001b[39m\u001b[38;5;124mfalling back to explicit home database resolution\u001b[39m\u001b[38;5;124m\"\u001b[39m,\n\u001b[0;32m    211\u001b[0m     )\n",
      "File \u001b[1;32m~\\anaconda3\\Lib\\site-packages\\neo4j\\_sync\\io\\_pool.py:676\u001b[0m, in \u001b[0;36mBoltPool.acquire\u001b[1;34m(self, access_mode, timeout, database, bookmarks, auth, liveness_check_timeout, unprepared, database_callback)\u001b[0m\n\u001b[0;32m    669\u001b[0m log\u001b[38;5;241m.\u001b[39mdebug(\n\u001b[0;32m    670\u001b[0m     \u001b[38;5;124m\"\u001b[39m\u001b[38;5;124m[#0000]  _: <POOL> acquire direct connection, \u001b[39m\u001b[38;5;124m\"\u001b[39m\n\u001b[0;32m    671\u001b[0m     \u001b[38;5;124m\"\u001b[39m\u001b[38;5;124maccess_mode=\u001b[39m\u001b[38;5;132;01m%r\u001b[39;00m\u001b[38;5;124m, database=\u001b[39m\u001b[38;5;132;01m%r\u001b[39;00m\u001b[38;5;124m\"\u001b[39m,\n\u001b[0;32m    672\u001b[0m     access_mode,\n\u001b[0;32m    673\u001b[0m     database,\n\u001b[0;32m    674\u001b[0m )\n\u001b[0;32m    675\u001b[0m deadline \u001b[38;5;241m=\u001b[39m Deadline\u001b[38;5;241m.\u001b[39mfrom_timeout_or_deadline(timeout)\n\u001b[1;32m--> 676\u001b[0m \u001b[38;5;28;01mreturn\u001b[39;00m \u001b[38;5;28mself\u001b[39m\u001b[38;5;241m.\u001b[39m_acquire(\n\u001b[0;32m    677\u001b[0m     \u001b[38;5;28mself\u001b[39m\u001b[38;5;241m.\u001b[39maddress, auth, deadline, liveness_check_timeout, unprepared\n\u001b[0;32m    678\u001b[0m )\n",
      "File \u001b[1;32m~\\anaconda3\\Lib\\site-packages\\neo4j\\_sync\\io\\_pool.py:417\u001b[0m, in \u001b[0;36mIOPool._acquire\u001b[1;34m(self, address, auth, deadline, liveness_check_timeout, unprepared)\u001b[0m\n\u001b[0;32m    412\u001b[0m             \u001b[38;5;28;01mraise\u001b[39;00m ClientError(\n\u001b[0;32m    413\u001b[0m                 \u001b[38;5;124m\"\u001b[39m\u001b[38;5;124mfailed to obtain a connection from the pool within \u001b[39m\u001b[38;5;124m\"\u001b[39m\n\u001b[0;32m    414\u001b[0m                 \u001b[38;5;124mf\u001b[39m\u001b[38;5;124m\"\u001b[39m\u001b[38;5;132;01m{\u001b[39;00mdeadline\u001b[38;5;241m.\u001b[39moriginal_timeout\u001b[38;5;132;01m!r}\u001b[39;00m\u001b[38;5;124ms (timeout)\u001b[39m\u001b[38;5;124m\"\u001b[39m\n\u001b[0;32m    415\u001b[0m             )\n\u001b[0;32m    416\u001b[0m log\u001b[38;5;241m.\u001b[39mdebug(\u001b[38;5;124m\"\u001b[39m\u001b[38;5;124m[#0000]  _: <POOL> trying to hand out new connection\u001b[39m\u001b[38;5;124m\"\u001b[39m)\n\u001b[1;32m--> 417\u001b[0m \u001b[38;5;28;01mreturn\u001b[39;00m connection_creator()\n",
      "File \u001b[1;32m~\\anaconda3\\Lib\\site-packages\\neo4j\\_sync\\io\\_pool.py:230\u001b[0m, in \u001b[0;36mIOPool._acquire_new_later.<locals>.connection_creator\u001b[1;34m()\u001b[0m\n\u001b[0;32m    228\u001b[0m \u001b[38;5;28;01mtry\u001b[39;00m:\n\u001b[0;32m    229\u001b[0m     \u001b[38;5;28;01mtry\u001b[39;00m:\n\u001b[1;32m--> 230\u001b[0m         connection \u001b[38;5;241m=\u001b[39m \u001b[38;5;28mself\u001b[39m\u001b[38;5;241m.\u001b[39mopener(\n\u001b[0;32m    231\u001b[0m             address, auth \u001b[38;5;129;01mor\u001b[39;00m \u001b[38;5;28mself\u001b[39m\u001b[38;5;241m.\u001b[39mpool_config\u001b[38;5;241m.\u001b[39mauth, deadline\n\u001b[0;32m    232\u001b[0m         )\n\u001b[0;32m    233\u001b[0m     \u001b[38;5;28;01mexcept\u001b[39;00m ServiceUnavailable:\n\u001b[0;32m    234\u001b[0m         \u001b[38;5;28mself\u001b[39m\u001b[38;5;241m.\u001b[39mdeactivate(address)\n",
      "File \u001b[1;32m~\\anaconda3\\Lib\\site-packages\\neo4j\\_sync\\io\\_pool.py:637\u001b[0m, in \u001b[0;36mBoltPool.open.<locals>.opener\u001b[1;34m(addr, auth_manager, deadline)\u001b[0m\n\u001b[0;32m    636\u001b[0m \u001b[38;5;28;01mdef\u001b[39;00m \u001b[38;5;21mopener\u001b[39m(addr, auth_manager, deadline):\n\u001b[1;32m--> 637\u001b[0m     \u001b[38;5;28;01mreturn\u001b[39;00m Bolt\u001b[38;5;241m.\u001b[39mopen(\n\u001b[0;32m    638\u001b[0m         addr,\n\u001b[0;32m    639\u001b[0m         auth_manager\u001b[38;5;241m=\u001b[39mauth_manager,\n\u001b[0;32m    640\u001b[0m         deadline\u001b[38;5;241m=\u001b[39mdeadline,\n\u001b[0;32m    641\u001b[0m         routing_context\u001b[38;5;241m=\u001b[39m\u001b[38;5;28;01mNone\u001b[39;00m,\n\u001b[0;32m    642\u001b[0m         pool_config\u001b[38;5;241m=\u001b[39mpool_config,\n\u001b[0;32m    643\u001b[0m     )\n",
      "File \u001b[1;32m~\\anaconda3\\Lib\\site-packages\\neo4j\\_sync\\io\\_bolt.py:429\u001b[0m, in \u001b[0;36mBolt.open\u001b[1;34m(cls, address, auth_manager, deadline, routing_context, pool_config)\u001b[0m\n\u001b[0;32m    427\u001b[0m connection\u001b[38;5;241m.\u001b[39msocket\u001b[38;5;241m.\u001b[39mset_deadline(deadline)\n\u001b[0;32m    428\u001b[0m \u001b[38;5;28;01mtry\u001b[39;00m:\n\u001b[1;32m--> 429\u001b[0m     connection\u001b[38;5;241m.\u001b[39mhello()\n\u001b[0;32m    430\u001b[0m \u001b[38;5;28;01mfinally\u001b[39;00m:\n\u001b[0;32m    431\u001b[0m     connection\u001b[38;5;241m.\u001b[39msocket\u001b[38;5;241m.\u001b[39mset_deadline(\u001b[38;5;28;01mNone\u001b[39;00m)\n",
      "File \u001b[1;32m~\\anaconda3\\Lib\\site-packages\\neo4j\\_sync\\io\\_bolt5.py:740\u001b[0m, in \u001b[0;36mBolt5x2.hello\u001b[1;34m(self, dehydration_hooks, hydration_hooks)\u001b[0m\n\u001b[0;32m    738\u001b[0m \u001b[38;5;28mself\u001b[39m\u001b[38;5;241m.\u001b[39mlogon(dehydration_hooks, hydration_hooks)\n\u001b[0;32m    739\u001b[0m \u001b[38;5;28mself\u001b[39m\u001b[38;5;241m.\u001b[39msend_all()\n\u001b[1;32m--> 740\u001b[0m \u001b[38;5;28mself\u001b[39m\u001b[38;5;241m.\u001b[39mfetch_all()\n\u001b[0;32m    741\u001b[0m check_supported_server_product(\u001b[38;5;28mself\u001b[39m\u001b[38;5;241m.\u001b[39mserver_info\u001b[38;5;241m.\u001b[39magent)\n",
      "File \u001b[1;32m~\\anaconda3\\Lib\\site-packages\\neo4j\\_sync\\io\\_bolt.py:878\u001b[0m, in \u001b[0;36mBolt.fetch_all\u001b[1;34m(self)\u001b[0m\n\u001b[0;32m    876\u001b[0m response \u001b[38;5;241m=\u001b[39m \u001b[38;5;28mself\u001b[39m\u001b[38;5;241m.\u001b[39mresponses[\u001b[38;5;241m0\u001b[39m]\n\u001b[0;32m    877\u001b[0m \u001b[38;5;28;01mwhile\u001b[39;00m \u001b[38;5;129;01mnot\u001b[39;00m response\u001b[38;5;241m.\u001b[39mcomplete:\n\u001b[1;32m--> 878\u001b[0m     detail_delta, summary_delta \u001b[38;5;241m=\u001b[39m \u001b[38;5;28mself\u001b[39m\u001b[38;5;241m.\u001b[39mfetch_message()\n\u001b[0;32m    879\u001b[0m     detail_count \u001b[38;5;241m+\u001b[39m\u001b[38;5;241m=\u001b[39m detail_delta\n\u001b[0;32m    880\u001b[0m     summary_count \u001b[38;5;241m+\u001b[39m\u001b[38;5;241m=\u001b[39m summary_delta\n",
      "File \u001b[1;32m~\\anaconda3\\Lib\\site-packages\\neo4j\\_sync\\io\\_bolt.py:863\u001b[0m, in \u001b[0;36mBolt.fetch_message\u001b[1;34m(self)\u001b[0m\n\u001b[0;32m    859\u001b[0m \u001b[38;5;66;03m# Receive exactly one message\u001b[39;00m\n\u001b[0;32m    860\u001b[0m tag, fields \u001b[38;5;241m=\u001b[39m \u001b[38;5;28mself\u001b[39m\u001b[38;5;241m.\u001b[39minbox\u001b[38;5;241m.\u001b[39mpop(\n\u001b[0;32m    861\u001b[0m     hydration_hooks\u001b[38;5;241m=\u001b[39m\u001b[38;5;28mself\u001b[39m\u001b[38;5;241m.\u001b[39mresponses[\u001b[38;5;241m0\u001b[39m]\u001b[38;5;241m.\u001b[39mhydration_hooks\n\u001b[0;32m    862\u001b[0m )\n\u001b[1;32m--> 863\u001b[0m res \u001b[38;5;241m=\u001b[39m \u001b[38;5;28mself\u001b[39m\u001b[38;5;241m.\u001b[39m_process_message(tag, fields)\n\u001b[0;32m    864\u001b[0m \u001b[38;5;28mself\u001b[39m\u001b[38;5;241m.\u001b[39midle_since \u001b[38;5;241m=\u001b[39m monotonic()\n\u001b[0;32m    865\u001b[0m \u001b[38;5;28;01mreturn\u001b[39;00m res\n",
      "File \u001b[1;32m~\\anaconda3\\Lib\\site-packages\\neo4j\\_sync\\io\\_bolt5.py:1208\u001b[0m, in \u001b[0;36mBolt5x7._process_message\u001b[1;34m(self, tag, fields)\u001b[0m\n\u001b[0;32m   1206\u001b[0m \u001b[38;5;28mself\u001b[39m\u001b[38;5;241m.\u001b[39m_enrich_error_diagnostic_record(summary_metadata)\n\u001b[0;32m   1207\u001b[0m \u001b[38;5;28;01mtry\u001b[39;00m:\n\u001b[1;32m-> 1208\u001b[0m     response\u001b[38;5;241m.\u001b[39mon_failure(summary_metadata \u001b[38;5;129;01mor\u001b[39;00m {})\n\u001b[0;32m   1209\u001b[0m \u001b[38;5;28;01mexcept\u001b[39;00m (ServiceUnavailable, DatabaseUnavailable):\n\u001b[0;32m   1210\u001b[0m     \u001b[38;5;28;01mif\u001b[39;00m \u001b[38;5;28mself\u001b[39m\u001b[38;5;241m.\u001b[39mpool:\n",
      "File \u001b[1;32m~\\anaconda3\\Lib\\site-packages\\neo4j\\_sync\\io\\_common.py:304\u001b[0m, in \u001b[0;36mLogonResponse.on_failure\u001b[1;34m(self, metadata)\u001b[0m\n\u001b[0;32m    302\u001b[0m handler \u001b[38;5;241m=\u001b[39m \u001b[38;5;28mself\u001b[39m\u001b[38;5;241m.\u001b[39mhandlers\u001b[38;5;241m.\u001b[39mget(\u001b[38;5;124m\"\u001b[39m\u001b[38;5;124mon_summary\u001b[39m\u001b[38;5;124m\"\u001b[39m)\n\u001b[0;32m    303\u001b[0m Util\u001b[38;5;241m.\u001b[39mcallback(handler)\n\u001b[1;32m--> 304\u001b[0m \u001b[38;5;28;01mraise\u001b[39;00m \u001b[38;5;28mself\u001b[39m\u001b[38;5;241m.\u001b[39m_hydrate_error(metadata)\n",
      "\u001b[1;31mAuthError\u001b[0m: {code: Neo.ClientError.Security.Unauthorized} {message: The client is unauthorized due to authentication failure.}"
     ]
    }
   ],
   "source": [
    "from rdflib_neo4j import Neo4jStoreConfig, Neo4jStore, HANDLE_VOCAB_URI_STRATEGY\n",
    "from rdflib import Graph\n",
    "\n",
    "auth_data = {\n",
    "    'uri': \"bolt://localhost:7687\",  # or your Aura URI\n",
    "    'database': \"neo4j\",\n",
    "    'user': \"neo4j\",\n",
    "    'pwd': \"Kumar123\"\n",
    "}\n",
    "\n",
    "config = Neo4jStoreConfig(\n",
    "    auth_data=auth_data,\n",
    "    handle_vocab_uri_strategy=HANDLE_VOCAB_URI_STRATEGY.IGNORE,\n",
    "    batching=True\n",
    ")\n",
    "\n",
    "g = Graph(store=Neo4jStore(config=config))\n",
    "g.parse(\"graph.ttl\", format=\"turtle\")\n",
    "g.close(True)  # Commit and close\n"
   ]
  },
  {
   "cell_type": "code",
   "execution_count": null,
   "id": "81f61608-358e-428a-84a3-10f070f17ae3",
   "metadata": {},
   "outputs": [],
   "source": []
  }
 ],
 "metadata": {
  "kernelspec": {
   "display_name": "Python 3 (ipykernel)",
   "language": "python",
   "name": "python3"
  },
  "language_info": {
   "codemirror_mode": {
    "name": "ipython",
    "version": 3
   },
   "file_extension": ".py",
   "mimetype": "text/x-python",
   "name": "python",
   "nbconvert_exporter": "python",
   "pygments_lexer": "ipython3",
   "version": "3.12.4"
  }
 },
 "nbformat": 4,
 "nbformat_minor": 5
}
